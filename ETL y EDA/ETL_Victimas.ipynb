{
 "cells": [
  {
   "cell_type": "code",
   "execution_count": 2,
   "metadata": {},
   "outputs": [],
   "source": [
    "import pandas as pd \n",
    "import numpy as np\n",
    "import utils as ut"
   ]
  },
  {
   "cell_type": "markdown",
   "metadata": {},
   "source": [
    "Aca me ubico en la carpeta de los archivos necesarios"
   ]
  },
  {
   "cell_type": "code",
   "execution_count": 3,
   "metadata": {},
   "outputs": [
    {
     "name": "stdout",
     "output_type": "stream",
     "text": [
      "C:\\Users\\Familia Lara Pernia\\Desktop\\Proyecto2_SiniestrosViales_Henry\n"
     ]
    },
    {
     "data": {
      "text/plain": [
       "'C:\\\\Users\\\\Familia Lara Pernia\\\\Desktop\\\\Proyecto2_SiniestrosViales_Henry'"
      ]
     },
     "execution_count": 3,
     "metadata": {},
     "output_type": "execute_result"
    }
   ],
   "source": [
    "%cd C:\\\\Users\\\\Familia Lara Pernia\\\\Desktop\\\\Proyecto2_SiniestrosViales_Henry\n",
    "%pwd"
   ]
  },
  {
   "cell_type": "markdown",
   "metadata": {},
   "source": [
    "Cargo archivos a trabajar"
   ]
  },
  {
   "cell_type": "code",
   "execution_count": 4,
   "metadata": {},
   "outputs": [],
   "source": [
    "victimas = pd.read_excel(\"data/excel/homicidios.xlsx\", sheet_name=\"VICTIMAS\")\n",
    "victimas_dict = pd.read_excel(\"data/excel/homicidios.xlsx\", sheet_name=\"DICCIONARIO_VICTIMAS\")"
   ]
  },
  {
   "cell_type": "markdown",
   "metadata": {},
   "source": [
    "Tratamiento de los datos del conjunto de datos 'víctimas' y 'victimas_dict'"
   ]
  },
  {
   "cell_type": "code",
   "execution_count": 5,
   "metadata": {},
   "outputs": [
    {
     "data": {
      "text/html": [
       "<div>\n",
       "<style scoped>\n",
       "    .dataframe tbody tr th:only-of-type {\n",
       "        vertical-align: middle;\n",
       "    }\n",
       "\n",
       "    .dataframe tbody tr th {\n",
       "        vertical-align: top;\n",
       "    }\n",
       "\n",
       "    .dataframe thead th {\n",
       "        text-align: right;\n",
       "    }\n",
       "</style>\n",
       "<table border=\"1\" class=\"dataframe\">\n",
       "  <thead>\n",
       "    <tr style=\"text-align: right;\">\n",
       "      <th></th>\n",
       "      <th>ID_hecho</th>\n",
       "      <th>FECHA</th>\n",
       "      <th>AAAA</th>\n",
       "      <th>MM</th>\n",
       "      <th>DD</th>\n",
       "      <th>ROL</th>\n",
       "      <th>VICTIMA</th>\n",
       "      <th>SEXO</th>\n",
       "      <th>EDAD</th>\n",
       "      <th>FECHA_FALLECIMIENTO</th>\n",
       "    </tr>\n",
       "  </thead>\n",
       "  <tbody>\n",
       "    <tr>\n",
       "      <th>0</th>\n",
       "      <td>2016-0001</td>\n",
       "      <td>2016-01-01</td>\n",
       "      <td>2016</td>\n",
       "      <td>1</td>\n",
       "      <td>1</td>\n",
       "      <td>CONDUCTOR</td>\n",
       "      <td>MOTO</td>\n",
       "      <td>MASCULINO</td>\n",
       "      <td>19</td>\n",
       "      <td>2016-01-01 00:00:00</td>\n",
       "    </tr>\n",
       "    <tr>\n",
       "      <th>1</th>\n",
       "      <td>2016-0002</td>\n",
       "      <td>2016-01-02</td>\n",
       "      <td>2016</td>\n",
       "      <td>1</td>\n",
       "      <td>2</td>\n",
       "      <td>CONDUCTOR</td>\n",
       "      <td>AUTO</td>\n",
       "      <td>MASCULINO</td>\n",
       "      <td>70</td>\n",
       "      <td>2016-01-02 00:00:00</td>\n",
       "    </tr>\n",
       "    <tr>\n",
       "      <th>2</th>\n",
       "      <td>2016-0003</td>\n",
       "      <td>2016-01-03</td>\n",
       "      <td>2016</td>\n",
       "      <td>1</td>\n",
       "      <td>3</td>\n",
       "      <td>CONDUCTOR</td>\n",
       "      <td>MOTO</td>\n",
       "      <td>MASCULINO</td>\n",
       "      <td>30</td>\n",
       "      <td>2016-01-03 00:00:00</td>\n",
       "    </tr>\n",
       "    <tr>\n",
       "      <th>3</th>\n",
       "      <td>2016-0004</td>\n",
       "      <td>2016-01-10</td>\n",
       "      <td>2016</td>\n",
       "      <td>1</td>\n",
       "      <td>10</td>\n",
       "      <td>CONDUCTOR</td>\n",
       "      <td>MOTO</td>\n",
       "      <td>MASCULINO</td>\n",
       "      <td>18</td>\n",
       "      <td>SD</td>\n",
       "    </tr>\n",
       "    <tr>\n",
       "      <th>4</th>\n",
       "      <td>2016-0005</td>\n",
       "      <td>2016-01-21</td>\n",
       "      <td>2016</td>\n",
       "      <td>1</td>\n",
       "      <td>21</td>\n",
       "      <td>CONDUCTOR</td>\n",
       "      <td>MOTO</td>\n",
       "      <td>MASCULINO</td>\n",
       "      <td>29</td>\n",
       "      <td>2016-02-01 00:00:00</td>\n",
       "    </tr>\n",
       "    <tr>\n",
       "      <th>...</th>\n",
       "      <td>...</td>\n",
       "      <td>...</td>\n",
       "      <td>...</td>\n",
       "      <td>...</td>\n",
       "      <td>...</td>\n",
       "      <td>...</td>\n",
       "      <td>...</td>\n",
       "      <td>...</td>\n",
       "      <td>...</td>\n",
       "      <td>...</td>\n",
       "    </tr>\n",
       "    <tr>\n",
       "      <th>712</th>\n",
       "      <td>2021-0092</td>\n",
       "      <td>2021-12-12</td>\n",
       "      <td>2021</td>\n",
       "      <td>12</td>\n",
       "      <td>12</td>\n",
       "      <td>PEATON</td>\n",
       "      <td>PEATON</td>\n",
       "      <td>FEMENINO</td>\n",
       "      <td>50</td>\n",
       "      <td>2021-12-12 00:00:00</td>\n",
       "    </tr>\n",
       "    <tr>\n",
       "      <th>713</th>\n",
       "      <td>2021-0093</td>\n",
       "      <td>2021-12-13</td>\n",
       "      <td>2021</td>\n",
       "      <td>12</td>\n",
       "      <td>13</td>\n",
       "      <td>PASAJERO_ACOMPAÑANTE</td>\n",
       "      <td>MOTO</td>\n",
       "      <td>FEMENINO</td>\n",
       "      <td>18</td>\n",
       "      <td>2021-12-18 00:00:00</td>\n",
       "    </tr>\n",
       "    <tr>\n",
       "      <th>714</th>\n",
       "      <td>2021-0094</td>\n",
       "      <td>2021-12-20</td>\n",
       "      <td>2021</td>\n",
       "      <td>12</td>\n",
       "      <td>20</td>\n",
       "      <td>PASAJERO_ACOMPAÑANTE</td>\n",
       "      <td>MOTO</td>\n",
       "      <td>FEMENINO</td>\n",
       "      <td>43</td>\n",
       "      <td>2021-12-20 00:00:00</td>\n",
       "    </tr>\n",
       "    <tr>\n",
       "      <th>715</th>\n",
       "      <td>2021-0095</td>\n",
       "      <td>2021-12-30</td>\n",
       "      <td>2021</td>\n",
       "      <td>12</td>\n",
       "      <td>30</td>\n",
       "      <td>CONDUCTOR</td>\n",
       "      <td>MOTO</td>\n",
       "      <td>MASCULINO</td>\n",
       "      <td>27</td>\n",
       "      <td>2022-01-02 00:00:00</td>\n",
       "    </tr>\n",
       "    <tr>\n",
       "      <th>716</th>\n",
       "      <td>2021-0096</td>\n",
       "      <td>2021-12-15</td>\n",
       "      <td>2021</td>\n",
       "      <td>12</td>\n",
       "      <td>15</td>\n",
       "      <td>CONDUCTOR</td>\n",
       "      <td>AUTO</td>\n",
       "      <td>MASCULINO</td>\n",
       "      <td>60</td>\n",
       "      <td>2021-12-20 00:00:00</td>\n",
       "    </tr>\n",
       "  </tbody>\n",
       "</table>\n",
       "<p>717 rows × 10 columns</p>\n",
       "</div>"
      ],
      "text/plain": [
       "      ID_hecho      FECHA  AAAA  MM  DD                   ROL VICTIMA  \\\n",
       "0    2016-0001 2016-01-01  2016   1   1             CONDUCTOR    MOTO   \n",
       "1    2016-0002 2016-01-02  2016   1   2             CONDUCTOR    AUTO   \n",
       "2    2016-0003 2016-01-03  2016   1   3             CONDUCTOR    MOTO   \n",
       "3    2016-0004 2016-01-10  2016   1  10             CONDUCTOR    MOTO   \n",
       "4    2016-0005 2016-01-21  2016   1  21             CONDUCTOR    MOTO   \n",
       "..         ...        ...   ...  ..  ..                   ...     ...   \n",
       "712  2021-0092 2021-12-12  2021  12  12                PEATON  PEATON   \n",
       "713  2021-0093 2021-12-13  2021  12  13  PASAJERO_ACOMPAÑANTE    MOTO   \n",
       "714  2021-0094 2021-12-20  2021  12  20  PASAJERO_ACOMPAÑANTE    MOTO   \n",
       "715  2021-0095 2021-12-30  2021  12  30             CONDUCTOR    MOTO   \n",
       "716  2021-0096 2021-12-15  2021  12  15             CONDUCTOR    AUTO   \n",
       "\n",
       "          SEXO EDAD  FECHA_FALLECIMIENTO  \n",
       "0    MASCULINO   19  2016-01-01 00:00:00  \n",
       "1    MASCULINO   70  2016-01-02 00:00:00  \n",
       "2    MASCULINO   30  2016-01-03 00:00:00  \n",
       "3    MASCULINO   18                   SD  \n",
       "4    MASCULINO   29  2016-02-01 00:00:00  \n",
       "..         ...  ...                  ...  \n",
       "712   FEMENINO   50  2021-12-12 00:00:00  \n",
       "713   FEMENINO   18  2021-12-18 00:00:00  \n",
       "714   FEMENINO   43  2021-12-20 00:00:00  \n",
       "715  MASCULINO   27  2022-01-02 00:00:00  \n",
       "716  MASCULINO   60  2021-12-20 00:00:00  \n",
       "\n",
       "[717 rows x 10 columns]"
      ]
     },
     "execution_count": 5,
     "metadata": {},
     "output_type": "execute_result"
    }
   ],
   "source": [
    "victimas"
   ]
  },
  {
   "cell_type": "code",
   "execution_count": 7,
   "metadata": {},
   "outputs": [
    {
     "data": {
      "text/html": [
       "<div>\n",
       "<style scoped>\n",
       "    .dataframe tbody tr th:only-of-type {\n",
       "        vertical-align: middle;\n",
       "    }\n",
       "\n",
       "    .dataframe tbody tr th {\n",
       "        vertical-align: top;\n",
       "    }\n",
       "\n",
       "    .dataframe thead th {\n",
       "        text-align: right;\n",
       "    }\n",
       "</style>\n",
       "<table border=\"1\" class=\"dataframe\">\n",
       "  <thead>\n",
       "    <tr style=\"text-align: right;\">\n",
       "      <th></th>\n",
       "      <th>variables y definiciones</th>\n",
       "      <th>descripción</th>\n",
       "      <th>Unnamed: 2</th>\n",
       "    </tr>\n",
       "  </thead>\n",
       "  <tbody>\n",
       "    <tr>\n",
       "      <th>0</th>\n",
       "      <td>ID_hecho</td>\n",
       "      <td>identificador unico del siniestro</td>\n",
       "      <td>NaN</td>\n",
       "    </tr>\n",
       "    <tr>\n",
       "      <th>1</th>\n",
       "      <td>FECHA</td>\n",
       "      <td>fecha en formato dd/mm/aaaa</td>\n",
       "      <td>NaN</td>\n",
       "    </tr>\n",
       "    <tr>\n",
       "      <th>2</th>\n",
       "      <td>AAAA</td>\n",
       "      <td>año</td>\n",
       "      <td>NaN</td>\n",
       "    </tr>\n",
       "    <tr>\n",
       "      <th>3</th>\n",
       "      <td>MM</td>\n",
       "      <td>mes</td>\n",
       "      <td>NaN</td>\n",
       "    </tr>\n",
       "    <tr>\n",
       "      <th>4</th>\n",
       "      <td>DD</td>\n",
       "      <td>día del mes</td>\n",
       "      <td>NaN</td>\n",
       "    </tr>\n",
       "    <tr>\n",
       "      <th>5</th>\n",
       "      <td>ROL</td>\n",
       "      <td>Posición relativa al vehículo que presentaba l...</td>\n",
       "      <td>NaN</td>\n",
       "    </tr>\n",
       "    <tr>\n",
       "      <th>6</th>\n",
       "      <td>VICTIMA</td>\n",
       "      <td>Vehículo que ocupaba quien haya fallecido a se...</td>\n",
       "      <td>NaN</td>\n",
       "    </tr>\n",
       "    <tr>\n",
       "      <th>7</th>\n",
       "      <td>SEXO</td>\n",
       "      <td>Sexo informado por fuente policial de la víctima</td>\n",
       "      <td>NaN</td>\n",
       "    </tr>\n",
       "    <tr>\n",
       "      <th>8</th>\n",
       "      <td>EDAD</td>\n",
       "      <td>Edad de la víctima al momento del siniestro</td>\n",
       "      <td>NaN</td>\n",
       "    </tr>\n",
       "    <tr>\n",
       "      <th>9</th>\n",
       "      <td>FECHA_FALLECIMIENTO</td>\n",
       "      <td>Fecha de fallecimiento de la víctima</td>\n",
       "      <td>NaN</td>\n",
       "    </tr>\n",
       "    <tr>\n",
       "      <th>10</th>\n",
       "      <td>NaN</td>\n",
       "      <td>NaN</td>\n",
       "      <td>NaN</td>\n",
       "    </tr>\n",
       "    <tr>\n",
       "      <th>11</th>\n",
       "      <td>Variables</td>\n",
       "      <td>valores</td>\n",
       "      <td>descripción</td>\n",
       "    </tr>\n",
       "    <tr>\n",
       "      <th>12</th>\n",
       "      <td>VICTIMA</td>\n",
       "      <td>PEATON</td>\n",
       "      <td>Víctima distinta de cualquier ocupante de un v...</td>\n",
       "    </tr>\n",
       "    <tr>\n",
       "      <th>13</th>\n",
       "      <td>NaN</td>\n",
       "      <td>MOTO</td>\n",
       "      <td>Vehículo a motor no carrozado que incluye moto...</td>\n",
       "    </tr>\n",
       "    <tr>\n",
       "      <th>14</th>\n",
       "      <td>NaN</td>\n",
       "      <td>AUTO</td>\n",
       "      <td>Vehículo a motor destinado al transporte de pe...</td>\n",
       "    </tr>\n",
       "    <tr>\n",
       "      <th>15</th>\n",
       "      <td>NaN</td>\n",
       "      <td>CARGAS</td>\n",
       "      <td>Vehículo a motor destiando al transporte de ca...</td>\n",
       "    </tr>\n",
       "    <tr>\n",
       "      <th>16</th>\n",
       "      <td>NaN</td>\n",
       "      <td>BICICLETA</td>\n",
       "      <td>Vehículo con al menos dos ruedas, que generalm...</td>\n",
       "    </tr>\n",
       "    <tr>\n",
       "      <th>17</th>\n",
       "      <td>NaN</td>\n",
       "      <td>PASAJEROS</td>\n",
       "      <td>Personas lesionadas que se encuentran dentro, ...</td>\n",
       "    </tr>\n",
       "    <tr>\n",
       "      <th>18</th>\n",
       "      <td>NaN</td>\n",
       "      <td>MOVIL</td>\n",
       "      <td>Vehículos de emergencia: móviles policiales, a...</td>\n",
       "    </tr>\n",
       "    <tr>\n",
       "      <th>19</th>\n",
       "      <td>NaN</td>\n",
       "      <td>OTRO</td>\n",
       "      <td>otros vehiculos</td>\n",
       "    </tr>\n",
       "    <tr>\n",
       "      <th>20</th>\n",
       "      <td>NaN</td>\n",
       "      <td>SD</td>\n",
       "      <td>Sin datos sobre el tipo de víctima</td>\n",
       "    </tr>\n",
       "  </tbody>\n",
       "</table>\n",
       "</div>"
      ],
      "text/plain": [
       "   variables y definiciones  \\\n",
       "0                  ID_hecho   \n",
       "1                     FECHA   \n",
       "2                      AAAA   \n",
       "3                        MM   \n",
       "4                        DD   \n",
       "5                       ROL   \n",
       "6                   VICTIMA   \n",
       "7                      SEXO   \n",
       "8                      EDAD   \n",
       "9       FECHA_FALLECIMIENTO   \n",
       "10                      NaN   \n",
       "11                Variables   \n",
       "12                  VICTIMA   \n",
       "13                      NaN   \n",
       "14                      NaN   \n",
       "15                      NaN   \n",
       "16                      NaN   \n",
       "17                      NaN   \n",
       "18                      NaN   \n",
       "19                      NaN   \n",
       "20                      NaN   \n",
       "\n",
       "                                          descripción  \\\n",
       "0                   identificador unico del siniestro   \n",
       "1                         fecha en formato dd/mm/aaaa   \n",
       "2                                                 año   \n",
       "3                                                 mes   \n",
       "4                                         día del mes   \n",
       "5   Posición relativa al vehículo que presentaba l...   \n",
       "6   Vehículo que ocupaba quien haya fallecido a se...   \n",
       "7    Sexo informado por fuente policial de la víctima   \n",
       "8         Edad de la víctima al momento del siniestro   \n",
       "9                Fecha de fallecimiento de la víctima   \n",
       "10                                                NaN   \n",
       "11                                            valores   \n",
       "12                                             PEATON   \n",
       "13                                               MOTO   \n",
       "14                                               AUTO   \n",
       "15                                             CARGAS   \n",
       "16                                          BICICLETA   \n",
       "17                                          PASAJEROS   \n",
       "18                                              MOVIL   \n",
       "19                                               OTRO   \n",
       "20                                                 SD   \n",
       "\n",
       "                                           Unnamed: 2  \n",
       "0                                                 NaN  \n",
       "1                                                 NaN  \n",
       "2                                                 NaN  \n",
       "3                                                 NaN  \n",
       "4                                                 NaN  \n",
       "5                                                 NaN  \n",
       "6                                                 NaN  \n",
       "7                                                 NaN  \n",
       "8                                                 NaN  \n",
       "9                                                 NaN  \n",
       "10                                                NaN  \n",
       "11                                        descripción  \n",
       "12  Víctima distinta de cualquier ocupante de un v...  \n",
       "13  Vehículo a motor no carrozado que incluye moto...  \n",
       "14  Vehículo a motor destinado al transporte de pe...  \n",
       "15  Vehículo a motor destiando al transporte de ca...  \n",
       "16  Vehículo con al menos dos ruedas, que generalm...  \n",
       "17  Personas lesionadas que se encuentran dentro, ...  \n",
       "18  Vehículos de emergencia: móviles policiales, a...  \n",
       "19                                    otros vehiculos  \n",
       "20                 Sin datos sobre el tipo de víctima  "
      ]
     },
     "execution_count": 7,
     "metadata": {},
     "output_type": "execute_result"
    }
   ],
   "source": [
    "victimas_dict"
   ]
  },
  {
   "cell_type": "markdown",
   "metadata": {},
   "source": [
    "\n",
    "Ahora vamos a ver un resumen sobre la base de datos de hechos."
   ]
  },
  {
   "cell_type": "code",
   "execution_count": 8,
   "metadata": {},
   "outputs": [
    {
     "name": "stdout",
     "output_type": "stream",
     "text": [
      "\n",
      "Total filas:  717\n",
      "\n",
      "Total filas nulas:  0\n",
      "\n",
      "Total filas duplicadas:  0\n"
     ]
    },
    {
     "data": {
      "text/html": [
       "<div>\n",
       "<style scoped>\n",
       "    .dataframe tbody tr th:only-of-type {\n",
       "        vertical-align: middle;\n",
       "    }\n",
       "\n",
       "    .dataframe tbody tr th {\n",
       "        vertical-align: top;\n",
       "    }\n",
       "\n",
       "    .dataframe thead th {\n",
       "        text-align: right;\n",
       "    }\n",
       "</style>\n",
       "<table border=\"1\" class=\"dataframe\">\n",
       "  <thead>\n",
       "    <tr style=\"text-align: right;\">\n",
       "      <th></th>\n",
       "      <th>Columnas</th>\n",
       "      <th>Tipo_Dato</th>\n",
       "      <th>No_miss_Qty</th>\n",
       "      <th>%Missing</th>\n",
       "      <th>Missing_Qty</th>\n",
       "    </tr>\n",
       "  </thead>\n",
       "  <tbody>\n",
       "    <tr>\n",
       "      <th>0</th>\n",
       "      <td>ID_hecho</td>\n",
       "      <td>[&lt;class 'str'&gt;]</td>\n",
       "      <td>717</td>\n",
       "      <td>0.0</td>\n",
       "      <td>0</td>\n",
       "    </tr>\n",
       "    <tr>\n",
       "      <th>1</th>\n",
       "      <td>FECHA</td>\n",
       "      <td>[&lt;class 'pandas._libs.tslibs.timestamps.Timest...</td>\n",
       "      <td>717</td>\n",
       "      <td>0.0</td>\n",
       "      <td>0</td>\n",
       "    </tr>\n",
       "    <tr>\n",
       "      <th>2</th>\n",
       "      <td>AAAA</td>\n",
       "      <td>[&lt;class 'int'&gt;]</td>\n",
       "      <td>717</td>\n",
       "      <td>0.0</td>\n",
       "      <td>0</td>\n",
       "    </tr>\n",
       "    <tr>\n",
       "      <th>3</th>\n",
       "      <td>MM</td>\n",
       "      <td>[&lt;class 'int'&gt;]</td>\n",
       "      <td>717</td>\n",
       "      <td>0.0</td>\n",
       "      <td>0</td>\n",
       "    </tr>\n",
       "    <tr>\n",
       "      <th>4</th>\n",
       "      <td>DD</td>\n",
       "      <td>[&lt;class 'int'&gt;]</td>\n",
       "      <td>717</td>\n",
       "      <td>0.0</td>\n",
       "      <td>0</td>\n",
       "    </tr>\n",
       "    <tr>\n",
       "      <th>5</th>\n",
       "      <td>ROL</td>\n",
       "      <td>[&lt;class 'str'&gt;]</td>\n",
       "      <td>717</td>\n",
       "      <td>0.0</td>\n",
       "      <td>0</td>\n",
       "    </tr>\n",
       "    <tr>\n",
       "      <th>6</th>\n",
       "      <td>VICTIMA</td>\n",
       "      <td>[&lt;class 'str'&gt;]</td>\n",
       "      <td>717</td>\n",
       "      <td>0.0</td>\n",
       "      <td>0</td>\n",
       "    </tr>\n",
       "    <tr>\n",
       "      <th>7</th>\n",
       "      <td>SEXO</td>\n",
       "      <td>[&lt;class 'str'&gt;]</td>\n",
       "      <td>717</td>\n",
       "      <td>0.0</td>\n",
       "      <td>0</td>\n",
       "    </tr>\n",
       "    <tr>\n",
       "      <th>8</th>\n",
       "      <td>EDAD</td>\n",
       "      <td>[&lt;class 'int'&gt;, &lt;class 'str'&gt;]</td>\n",
       "      <td>717</td>\n",
       "      <td>0.0</td>\n",
       "      <td>0</td>\n",
       "    </tr>\n",
       "    <tr>\n",
       "      <th>9</th>\n",
       "      <td>FECHA_FALLECIMIENTO</td>\n",
       "      <td>[&lt;class 'datetime.datetime'&gt;, &lt;class 'str'&gt;]</td>\n",
       "      <td>717</td>\n",
       "      <td>0.0</td>\n",
       "      <td>0</td>\n",
       "    </tr>\n",
       "  </tbody>\n",
       "</table>\n",
       "</div>"
      ],
      "text/plain": [
       "              Columnas                                          Tipo_Dato  \\\n",
       "0             ID_hecho                                    [<class 'str'>]   \n",
       "1                FECHA  [<class 'pandas._libs.tslibs.timestamps.Timest...   \n",
       "2                 AAAA                                    [<class 'int'>]   \n",
       "3                   MM                                    [<class 'int'>]   \n",
       "4                   DD                                    [<class 'int'>]   \n",
       "5                  ROL                                    [<class 'str'>]   \n",
       "6              VICTIMA                                    [<class 'str'>]   \n",
       "7                 SEXO                                    [<class 'str'>]   \n",
       "8                 EDAD                     [<class 'int'>, <class 'str'>]   \n",
       "9  FECHA_FALLECIMIENTO       [<class 'datetime.datetime'>, <class 'str'>]   \n",
       "\n",
       "   No_miss_Qty  %Missing  Missing_Qty  \n",
       "0          717       0.0            0  \n",
       "1          717       0.0            0  \n",
       "2          717       0.0            0  \n",
       "3          717       0.0            0  \n",
       "4          717       0.0            0  \n",
       "5          717       0.0            0  \n",
       "6          717       0.0            0  \n",
       "7          717       0.0            0  \n",
       "8          717       0.0            0  \n",
       "9          717       0.0            0  "
      ]
     },
     "execution_count": 8,
     "metadata": {},
     "output_type": "execute_result"
    }
   ],
   "source": [
    "ut.data_summ(victimas)"
   ]
  },
  {
   "cell_type": "markdown",
   "metadata": {},
   "source": [
    "Para unir este dataframe con el dataframe de hechos eliminamos las columnas que se repiten en ambos. También eliminaremos la columna \"FECHA_FALLECIMIENTO\" ya que no aporta información relevante para el análisis que debemos realizar."
   ]
  },
  {
   "cell_type": "code",
   "execution_count": 9,
   "metadata": {},
   "outputs": [],
   "source": [
    "columns_to_drop = ['FECHA', 'AAAA', 'MM', 'DD', 'VICTIMA', 'FECHA_FALLECIMIENTO']\n",
    "\n",
    "# Drop Columnas\n",
    "victimas = victimas.drop(columns_to_drop, axis=1)"
   ]
  },
  {
   "cell_type": "code",
   "execution_count": 10,
   "metadata": {},
   "outputs": [
    {
     "data": {
      "text/html": [
       "<div>\n",
       "<style scoped>\n",
       "    .dataframe tbody tr th:only-of-type {\n",
       "        vertical-align: middle;\n",
       "    }\n",
       "\n",
       "    .dataframe tbody tr th {\n",
       "        vertical-align: top;\n",
       "    }\n",
       "\n",
       "    .dataframe thead th {\n",
       "        text-align: right;\n",
       "    }\n",
       "</style>\n",
       "<table border=\"1\" class=\"dataframe\">\n",
       "  <thead>\n",
       "    <tr style=\"text-align: right;\">\n",
       "      <th></th>\n",
       "      <th>ID_hecho</th>\n",
       "      <th>ROL</th>\n",
       "      <th>SEXO</th>\n",
       "      <th>EDAD</th>\n",
       "    </tr>\n",
       "  </thead>\n",
       "  <tbody>\n",
       "    <tr>\n",
       "      <th>0</th>\n",
       "      <td>2016-0001</td>\n",
       "      <td>CONDUCTOR</td>\n",
       "      <td>MASCULINO</td>\n",
       "      <td>19</td>\n",
       "    </tr>\n",
       "    <tr>\n",
       "      <th>1</th>\n",
       "      <td>2016-0002</td>\n",
       "      <td>CONDUCTOR</td>\n",
       "      <td>MASCULINO</td>\n",
       "      <td>70</td>\n",
       "    </tr>\n",
       "    <tr>\n",
       "      <th>2</th>\n",
       "      <td>2016-0003</td>\n",
       "      <td>CONDUCTOR</td>\n",
       "      <td>MASCULINO</td>\n",
       "      <td>30</td>\n",
       "    </tr>\n",
       "    <tr>\n",
       "      <th>3</th>\n",
       "      <td>2016-0004</td>\n",
       "      <td>CONDUCTOR</td>\n",
       "      <td>MASCULINO</td>\n",
       "      <td>18</td>\n",
       "    </tr>\n",
       "    <tr>\n",
       "      <th>4</th>\n",
       "      <td>2016-0005</td>\n",
       "      <td>CONDUCTOR</td>\n",
       "      <td>MASCULINO</td>\n",
       "      <td>29</td>\n",
       "    </tr>\n",
       "    <tr>\n",
       "      <th>...</th>\n",
       "      <td>...</td>\n",
       "      <td>...</td>\n",
       "      <td>...</td>\n",
       "      <td>...</td>\n",
       "    </tr>\n",
       "    <tr>\n",
       "      <th>712</th>\n",
       "      <td>2021-0092</td>\n",
       "      <td>PEATON</td>\n",
       "      <td>FEMENINO</td>\n",
       "      <td>50</td>\n",
       "    </tr>\n",
       "    <tr>\n",
       "      <th>713</th>\n",
       "      <td>2021-0093</td>\n",
       "      <td>PASAJERO_ACOMPAÑANTE</td>\n",
       "      <td>FEMENINO</td>\n",
       "      <td>18</td>\n",
       "    </tr>\n",
       "    <tr>\n",
       "      <th>714</th>\n",
       "      <td>2021-0094</td>\n",
       "      <td>PASAJERO_ACOMPAÑANTE</td>\n",
       "      <td>FEMENINO</td>\n",
       "      <td>43</td>\n",
       "    </tr>\n",
       "    <tr>\n",
       "      <th>715</th>\n",
       "      <td>2021-0095</td>\n",
       "      <td>CONDUCTOR</td>\n",
       "      <td>MASCULINO</td>\n",
       "      <td>27</td>\n",
       "    </tr>\n",
       "    <tr>\n",
       "      <th>716</th>\n",
       "      <td>2021-0096</td>\n",
       "      <td>CONDUCTOR</td>\n",
       "      <td>MASCULINO</td>\n",
       "      <td>60</td>\n",
       "    </tr>\n",
       "  </tbody>\n",
       "</table>\n",
       "<p>717 rows × 4 columns</p>\n",
       "</div>"
      ],
      "text/plain": [
       "      ID_hecho                   ROL       SEXO EDAD\n",
       "0    2016-0001             CONDUCTOR  MASCULINO   19\n",
       "1    2016-0002             CONDUCTOR  MASCULINO   70\n",
       "2    2016-0003             CONDUCTOR  MASCULINO   30\n",
       "3    2016-0004             CONDUCTOR  MASCULINO   18\n",
       "4    2016-0005             CONDUCTOR  MASCULINO   29\n",
       "..         ...                   ...        ...  ...\n",
       "712  2021-0092                PEATON   FEMENINO   50\n",
       "713  2021-0093  PASAJERO_ACOMPAÑANTE   FEMENINO   18\n",
       "714  2021-0094  PASAJERO_ACOMPAÑANTE   FEMENINO   43\n",
       "715  2021-0095             CONDUCTOR  MASCULINO   27\n",
       "716  2021-0096             CONDUCTOR  MASCULINO   60\n",
       "\n",
       "[717 rows x 4 columns]"
      ]
     },
     "execution_count": 10,
     "metadata": {},
     "output_type": "execute_result"
    }
   ],
   "source": [
    "victimas"
   ]
  },
  {
   "cell_type": "markdown",
   "metadata": {},
   "source": [
    "Nuestro resumen de datos muestra algunas columnas en mayúsculas y otras en minúsculas. También muestra algunas columnas con diferentes tipos de datos. Nuestro primer paso será estandarizar la escritura de columnas y luego analizar columnas con diferentes tipos de datos."
   ]
  },
  {
   "cell_type": "code",
   "execution_count": 12,
   "metadata": {},
   "outputs": [
    {
     "data": {
      "text/plain": [
       "Index(['Hechos_Id', 'Rol', 'Sexo', 'Edad'], dtype='object')"
      ]
     },
     "execution_count": 12,
     "metadata": {},
     "output_type": "execute_result"
    }
   ],
   "source": [
    "#Estandarizamos el formato de las columnas\n",
    "victimas.columns = victimas.columns.str.replace('_', ' ')\n",
    "\n",
    "victimas.columns = victimas.columns.str.title()\n",
    "# Renombramos columnas\n",
    "victimas = victimas.rename(columns={'Id Hecho': 'Hechos_Id'})\n",
    "victimas.columns"
   ]
  },
  {
   "cell_type": "markdown",
   "metadata": {},
   "source": [
    "La columna 'Edad' tiene tipos mixtos de datos. Vamos a analizar y transformar (si es posible)"
   ]
  },
  {
   "cell_type": "code",
   "execution_count": 13,
   "metadata": {},
   "outputs": [
    {
     "data": {
      "text/plain": [
       "Edad\n",
       "<class 'int'>    664\n",
       "<class 'str'>     53\n",
       "Name: count, dtype: int64"
      ]
     },
     "execution_count": 13,
     "metadata": {},
     "output_type": "execute_result"
    }
   ],
   "source": [
    "victimas['Edad'].apply(type).value_counts()"
   ]
  },
  {
   "cell_type": "code",
   "execution_count": 14,
   "metadata": {},
   "outputs": [
    {
     "data": {
      "text/plain": [
       "array([19, 70, 30, 18, 29, 22, 16, 59, 65, 34, 41, 50, 38, 21, 52, 36, 20,\n",
       "       54, 'SD', 56, 24, 78, 79, 26, 57, 37, 58, 23, 60, 42, 53, 51, 40,\n",
       "       87, 76, 75, 35, 80, 43, 45, 67, 27, 55, 49, 81, 25, 33, 46, 83, 39,\n",
       "       28, 7, 48, 4, 82, 32, 17, 47, 61, 10, 95, 73, 84, 66, 85, 1, 15,\n",
       "       13, 77, 44, 31, 62, 74, 71, 11, 86, 69, 72, 12, 63, 92, 68, 91, 64,\n",
       "       5, 88], dtype=object)"
      ]
     },
     "execution_count": 14,
     "metadata": {},
     "output_type": "execute_result"
    }
   ],
   "source": [
    "victimas['Edad'].unique()"
   ]
  },
  {
   "cell_type": "markdown",
   "metadata": {},
   "source": [
    "Podemos ver en la columna 'Edad' los valores tipo 'str' son 'SD', para analizar y transformar (si es posible) los valores 'SD' en el dataframe, analizaremos datos únicos en cada columna."
   ]
  },
  {
   "cell_type": "code",
   "execution_count": 15,
   "metadata": {},
   "outputs": [
    {
     "data": {
      "text/plain": [
       "array(['CONDUCTOR', 'PASAJERO_ACOMPAÑANTE', 'PEATON', 'SD', 'CICLISTA'],\n",
       "      dtype=object)"
      ]
     },
     "execution_count": 15,
     "metadata": {},
     "output_type": "execute_result"
    }
   ],
   "source": [
    "victimas['Rol'].unique()"
   ]
  },
  {
   "cell_type": "code",
   "execution_count": 16,
   "metadata": {},
   "outputs": [
    {
     "data": {
      "text/plain": [
       "array(['MASCULINO', 'FEMENINO', 'SD'], dtype=object)"
      ]
     },
     "execution_count": 16,
     "metadata": {},
     "output_type": "execute_result"
    }
   ],
   "source": [
    "victimas['Sexo'].unique()"
   ]
  },
  {
   "cell_type": "code",
   "execution_count": 17,
   "metadata": {},
   "outputs": [
    {
     "name": "stdout",
     "output_type": "stream",
     "text": [
      "Cuenta de 'SD' en la columna Hechos_Id: 0\n",
      "Cuenta de 'SD' en la columna Rol: 11\n",
      "Cuenta de 'SD' en la columna Sexo: 6\n",
      "Cuenta de 'SD' en la columna Edad: 53\n"
     ]
    }
   ],
   "source": [
    "ut.count_value_per_column(victimas, 'SD')"
   ]
  },
  {
   "cell_type": "markdown",
   "metadata": {},
   "source": [
    "Para la columna 'Edad', reemplazaremos los valores 'SD' con un número entero aleatorio en un rango (promedio -2 desviación estándar, promedio +2 desviación estándar)"
   ]
  },
  {
   "cell_type": "code",
   "execution_count": 19,
   "metadata": {},
   "outputs": [
    {
     "data": {
      "text/plain": [
       "array([19, 70, 30, 18, 29, 22, 16, 59, 65, 34, 41, 50, 38, 21, 52, 36, 20,\n",
       "       54, 53, 56, 24, 73, 62, 78, 79, 26, 57, 37, 58, 23, 60, 42, 76, 51,\n",
       "       40, 87, 75, 35, 25, 80, 43, 45, 67, 27, 55,  4, 49, 81, 33, 46, 83,\n",
       "       39,  3, 31, 28,  7, 48, 82, 32, 61, 17, 47, 10, 95, 84, 66, 77, 85,\n",
       "        1, 15, 13, 44, 74, 71, 11, 86, 69, 63, 72, 12,  8, 92,  5, 68, 91,\n",
       "       64,  9, 88])"
      ]
     },
     "execution_count": 19,
     "metadata": {},
     "output_type": "execute_result"
    }
   ],
   "source": [
    "# Calculamos la media y la desviación estándar de la columna 'Edad' (ignorando los valores 'SD')\n",
    "avg_age = victimas[victimas['Edad'] != 'SD']['Edad'].astype(float).mean()\n",
    "std_dev = victimas[victimas['Edad'] != 'SD']['Edad'].astype(float).std()\n",
    "\n",
    "# Generamos números aleatorios dentro del rango definido\n",
    "np.random.seed(42)  # This ensures that the random numbers are reproducible\n",
    "random_age = np.random.randint(\n",
    "    avg_age - 2 * std_dev,\n",
    "    avg_age + 2 * std_dev + 1,  # +1 to include the upper limit\n",
    "    size=len(victimas[victimas['Edad'] == 'SD'])\n",
    ")\n",
    "\n",
    "# Reemplazamos los valores 'SD' con los números aleatorios generados\n",
    "victimas.loc[victimas['Edad'] == 'SD', 'Edad'] = random_age\n",
    "\n",
    "# Convertimos la columna 'Edad' nuevamente al tipo entero\n",
    "victimas['Edad'] = victimas['Edad'].astype(int)\n",
    "\n",
    "victimas['Edad'].unique()"
   ]
  },
  {
   "cell_type": "markdown",
   "metadata": {},
   "source": [
    "Para las columnas 'Sexo y ´'Rol', debido a que hay pocos valores 'SD' los reemplazaremos con el valor más repetido"
   ]
  },
  {
   "cell_type": "code",
   "execution_count": 20,
   "metadata": {},
   "outputs": [
    {
     "name": "stdout",
     "output_type": "stream",
     "text": [
      "moda en columna 'Sexo':\n",
      "MASCULINO\n",
      "\n",
      "moda en columna 'Rol':\n",
      "CONDUCTOR\n"
     ]
    }
   ],
   "source": [
    "# Calculamos la moda en la columna'sexo'\n",
    "mode_sexo = victimas['Sexo'].mode()[0]\n",
    "\n",
    "# Calculamos la moda en la columna 'rol'\n",
    "mode_rol = victimas['Rol'].mode()[0]\n",
    "\n",
    "print(\"moda en columna 'Sexo':\")\n",
    "print(mode_sexo)\n",
    "\n",
    "print(\"\\nmoda en columna 'Rol':\")\n",
    "print(mode_rol)"
   ]
  },
  {
   "cell_type": "code",
   "execution_count": 21,
   "metadata": {},
   "outputs": [
    {
     "name": "stdout",
     "output_type": "stream",
     "text": [
      "['MASCULINO' 'FEMENINO']\n",
      "['CONDUCTOR' 'PASAJERO_ACOMPAÑANTE' 'PEATON' 'CICLISTA']\n"
     ]
    }
   ],
   "source": [
    "# Reemplazar 'SD' por la moda en la columna 'Sexo'\n",
    "victimas['Sexo'] = victimas['Sexo'].replace('SD', mode_sexo)\n",
    "\n",
    "# Reemplazar 'SD' por la moda en la columna 'Rol'\n",
    "victimas['Rol'] = victimas['Rol'].replace('SD', mode_rol)\n",
    "\n",
    "print(victimas['Sexo'].unique())\n",
    "print(victimas['Rol'].unique())"
   ]
  },
  {
   "cell_type": "code",
   "execution_count": 23,
   "metadata": {},
   "outputs": [
    {
     "name": "stdout",
     "output_type": "stream",
     "text": [
      "\n",
      "Total filas:  717\n",
      "\n",
      "Total filas nulas:  0\n",
      "\n",
      "Total filas duplicadas:  0\n"
     ]
    },
    {
     "data": {
      "text/html": [
       "<div>\n",
       "<style scoped>\n",
       "    .dataframe tbody tr th:only-of-type {\n",
       "        vertical-align: middle;\n",
       "    }\n",
       "\n",
       "    .dataframe tbody tr th {\n",
       "        vertical-align: top;\n",
       "    }\n",
       "\n",
       "    .dataframe thead th {\n",
       "        text-align: right;\n",
       "    }\n",
       "</style>\n",
       "<table border=\"1\" class=\"dataframe\">\n",
       "  <thead>\n",
       "    <tr style=\"text-align: right;\">\n",
       "      <th></th>\n",
       "      <th>Columnas</th>\n",
       "      <th>Tipo_Dato</th>\n",
       "      <th>No_miss_Qty</th>\n",
       "      <th>%Missing</th>\n",
       "      <th>Missing_Qty</th>\n",
       "    </tr>\n",
       "  </thead>\n",
       "  <tbody>\n",
       "    <tr>\n",
       "      <th>0</th>\n",
       "      <td>Hechos_Id</td>\n",
       "      <td>[&lt;class 'str'&gt;]</td>\n",
       "      <td>717</td>\n",
       "      <td>0.0</td>\n",
       "      <td>0</td>\n",
       "    </tr>\n",
       "    <tr>\n",
       "      <th>1</th>\n",
       "      <td>Rol</td>\n",
       "      <td>[&lt;class 'str'&gt;]</td>\n",
       "      <td>717</td>\n",
       "      <td>0.0</td>\n",
       "      <td>0</td>\n",
       "    </tr>\n",
       "    <tr>\n",
       "      <th>2</th>\n",
       "      <td>Sexo</td>\n",
       "      <td>[&lt;class 'str'&gt;]</td>\n",
       "      <td>717</td>\n",
       "      <td>0.0</td>\n",
       "      <td>0</td>\n",
       "    </tr>\n",
       "    <tr>\n",
       "      <th>3</th>\n",
       "      <td>Edad</td>\n",
       "      <td>[&lt;class 'int'&gt;]</td>\n",
       "      <td>717</td>\n",
       "      <td>0.0</td>\n",
       "      <td>0</td>\n",
       "    </tr>\n",
       "  </tbody>\n",
       "</table>\n",
       "</div>"
      ],
      "text/plain": [
       "    Columnas        Tipo_Dato  No_miss_Qty  %Missing  Missing_Qty\n",
       "0  Hechos_Id  [<class 'str'>]          717       0.0            0\n",
       "1        Rol  [<class 'str'>]          717       0.0            0\n",
       "2       Sexo  [<class 'str'>]          717       0.0            0\n",
       "3       Edad  [<class 'int'>]          717       0.0            0"
      ]
     },
     "execution_count": 23,
     "metadata": {},
     "output_type": "execute_result"
    }
   ],
   "source": [
    "ut.data_summ(victimas)"
   ]
  },
  {
   "cell_type": "markdown",
   "metadata": {},
   "source": [
    "Finalmente crearemos una columna adicional 'Rango Etario'"
   ]
  },
  {
   "cell_type": "code",
   "execution_count": 25,
   "metadata": {},
   "outputs": [
    {
     "data": {
      "text/html": [
       "<div>\n",
       "<style scoped>\n",
       "    .dataframe tbody tr th:only-of-type {\n",
       "        vertical-align: middle;\n",
       "    }\n",
       "\n",
       "    .dataframe tbody tr th {\n",
       "        vertical-align: top;\n",
       "    }\n",
       "\n",
       "    .dataframe thead th {\n",
       "        text-align: right;\n",
       "    }\n",
       "</style>\n",
       "<table border=\"1\" class=\"dataframe\">\n",
       "  <thead>\n",
       "    <tr style=\"text-align: right;\">\n",
       "      <th></th>\n",
       "      <th>Hechos_Id</th>\n",
       "      <th>Rol</th>\n",
       "      <th>Sexo</th>\n",
       "      <th>Edad</th>\n",
       "      <th>Rango Etario</th>\n",
       "    </tr>\n",
       "  </thead>\n",
       "  <tbody>\n",
       "    <tr>\n",
       "      <th>0</th>\n",
       "      <td>2016-0001</td>\n",
       "      <td>CONDUCTOR</td>\n",
       "      <td>MASCULINO</td>\n",
       "      <td>19</td>\n",
       "      <td>19-25</td>\n",
       "    </tr>\n",
       "    <tr>\n",
       "      <th>1</th>\n",
       "      <td>2016-0002</td>\n",
       "      <td>CONDUCTOR</td>\n",
       "      <td>MASCULINO</td>\n",
       "      <td>70</td>\n",
       "      <td>61+</td>\n",
       "    </tr>\n",
       "    <tr>\n",
       "      <th>2</th>\n",
       "      <td>2016-0003</td>\n",
       "      <td>CONDUCTOR</td>\n",
       "      <td>MASCULINO</td>\n",
       "      <td>30</td>\n",
       "      <td>26-40</td>\n",
       "    </tr>\n",
       "  </tbody>\n",
       "</table>\n",
       "</div>"
      ],
      "text/plain": [
       "   Hechos_Id        Rol       Sexo  Edad Rango Etario\n",
       "0  2016-0001  CONDUCTOR  MASCULINO    19        19-25\n",
       "1  2016-0002  CONDUCTOR  MASCULINO    70          61+\n",
       "2  2016-0003  CONDUCTOR  MASCULINO    30        26-40"
      ]
     },
     "execution_count": 25,
     "metadata": {},
     "output_type": "execute_result"
    }
   ],
   "source": [
    "# Definimos los límites de los rangos de edad\n",
    "age_range = [0, 18, 25, 40, 60, float('inf')]  \n",
    "\n",
    "# Definimos etiquetas para rangos de edad\n",
    "tag_ranges = ['0-18', '19-25', '26-40', '41-60', '61+']\n",
    "\n",
    "# Creamos la columna 'Rango Etario' usando pd.cut\n",
    "victimas['Rango Etario'] = pd.cut(victimas['Edad'], bins=age_range, labels=tag_ranges, right=False)\n",
    "\n",
    "\n",
    "victimas.head(3)"
   ]
  },
  {
   "cell_type": "markdown",
   "metadata": {},
   "source": [
    "Guardamos nuestro df limpio en un archivo CSV"
   ]
  },
  {
   "cell_type": "code",
   "execution_count": null,
   "metadata": {},
   "outputs": [],
   "source": [
    "dataframe = [victimas]\n",
    "name = ['victimas_limpio']\n",
    "ut.save_to_csv(dataframe, name)"
   ]
  }
 ],
 "metadata": {
  "kernelspec": {
   "display_name": "Python 3",
   "language": "python",
   "name": "python3"
  },
  "language_info": {
   "codemirror_mode": {
    "name": "ipython",
    "version": 3
   },
   "file_extension": ".py",
   "mimetype": "text/x-python",
   "name": "python",
   "nbconvert_exporter": "python",
   "pygments_lexer": "ipython3",
   "version": "3.10.11"
  }
 },
 "nbformat": 4,
 "nbformat_minor": 2
}
